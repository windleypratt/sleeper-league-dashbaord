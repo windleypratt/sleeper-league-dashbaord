{
 "cells": [
  {
   "cell_type": "code",
   "execution_count": 1,
   "id": "fe485cf0-3de3-4256-9bc8-ee657d59dd28",
   "metadata": {},
   "outputs": [],
   "source": [
    "import pandas as pd\n",
    "import numpy as np\n",
    "import http.client, urllib.request, urllib.parse\n",
    "import json\n",
    "import os\n",
    "from datetime import datetime, timedelta"
   ]
  },
  {
   "cell_type": "code",
   "execution_count": 2,
   "id": "271c643b-f248-4d81-8c4f-46179cab28f9",
   "metadata": {},
   "outputs": [
    {
     "name": "stdin",
     "output_type": "stream",
     "text": [
      "League ID: 720025558011953152\n"
     ]
    }
   ],
   "source": [
    "#leagues = {'ONS': 720025558011953152, 'DODN': 786404550704758784}\n",
    "\n",
    "\n",
    "## Run this cell and input your most recent league ID.\n",
    "### The following script works backward to get each previous league/season.\n",
    "\n",
    "league_id = input(\"League ID:\")"
   ]
  },
  {
   "cell_type": "code",
   "execution_count": 3,
   "id": "4dba3cc9-95f6-4de9-b42e-05fae1006056",
   "metadata": {},
   "outputs": [
    {
     "name": "stdout",
     "output_type": "stream",
     "text": [
      "League: 720025558011953152\n",
      "League: 599742529973305344\n",
      "League: 384374154654392320\n",
      "League: 342901160002236416\n"
     ]
    }
   ],
   "source": [
    "leagues = list()\n",
    "league_info = pd.DataFrame()\n",
    "league_stats = pd.DataFrame()\n",
    "users = pd.DataFrame()\n",
    "rosters = pd.DataFrame()\n",
    "\n",
    "conn = http.client.HTTPSConnection('api.sleeper.app')\n",
    "\n",
    "while league_id:\n",
    "    print('League: ' + str(league_id))\n",
    "    leagues.append(league_id)\n",
    "    conn.request(\"GET\", '/v1/league/' + str(league_id))\n",
    "    r = conn.getresponse().read()\n",
    "    data = json.loads(r)\n",
    "    season = data.get('season')\n",
    "    weeks = int(data.get('settings').get('playoff_week_start')) - 1\n",
    "    status = data.get('status')\n",
    "    row = [league_id, season, status, weeks]\n",
    "    league_info = league_info.append([row])\n",
    "    \n",
    "    \n",
    "    \n",
    "    if status == 'complete':\n",
    "        for w in range(weeks):\n",
    "            week = w + 1\n",
    "            #print('---- Week: ' + str(week))\n",
    "            \n",
    "            endpoint = '/v1/league/' + str(league_id) + '/matchups/' + str(week)\n",
    "            conn.request(\"GET\", endpoint)\n",
    "            m = conn.getresponse().read()\n",
    "            mdata = json.loads(m)\n",
    "            \n",
    "            for tdata in mdata:\n",
    "                try:\n",
    "                    points = tdata.get('players_points')\n",
    "                    roster_id = tdata.get('roster_id')\n",
    "                    matchup = tdata.get('matchup_id')\n",
    "                    players = pd.DataFrame({'roster_id': roster_id, 'season': season, 'week': week, 'matchup':matchup, 'player_id' : points.keys(), 'points': points.values()})\n",
    "                    starters = tdata.get('starters')\n",
    "\n",
    "                    players['starter'] = np.where(players['player_id'].isin(starters), True, False)\n",
    "                    players['league_id'] = league_id\n",
    "\n",
    "                    league_stats = league_stats.append(players)\n",
    "                except:\n",
    "                    #print('-------- Error for roster ' + str(roster))\n",
    "                    continue\n",
    "                    \n",
    "        endpoint = '/v1/league/' + str(league_id) + '/users/'\n",
    "        conn.request(\"GET\", endpoint)\n",
    "        u = conn.getresponse().read()\n",
    "        udata = json.loads(u)\n",
    "        for u in udata:\n",
    "            user_id = u.get('user_id')\n",
    "            display_name = u.get('display_name')\n",
    "            urow = [user_id, display_name]\n",
    "            users = users.append([urow])\n",
    "            \n",
    "        endpoint = '/v1/league/' + str(league_id) + '/rosters/'\n",
    "        conn.request(\"GET\", endpoint)\n",
    "        b = conn.getresponse().read()\n",
    "        bdata = json.loads(b)\n",
    "        for b in bdata:\n",
    "            roster_id = b.get('roster_id')\n",
    "            user_id = b.get('owner_id')\n",
    "            division = b.get('settings').get('division')\n",
    "            brow = [roster_id, user_id, league_id, division]\n",
    "            rosters = rosters.append([brow])\n",
    "\n",
    "\n",
    "        \n",
    "    \n",
    "    league_id = data.get('previous_league_id')\n",
    "\n",
    "users.columns = ['user_id','display_name']\n",
    "rosters.columns = ['roster_id','user_id', 'league_id', 'division']\n",
    "\n"
   ]
  },
  {
   "cell_type": "code",
   "execution_count": 4,
   "id": "9639a818-a9e2-4447-ac91-785f83346643",
   "metadata": {},
   "outputs": [],
   "source": [
    "league_stats = league_stats.merge(rosters, how='left', on=['roster_id','league_id'])\n",
    "league_stats = league_stats.merge(users, how='left', on='user_id')"
   ]
  },
  {
   "cell_type": "code",
   "execution_count": 5,
   "id": "17171a3b-089f-43d4-85cc-b6cf529a6480",
   "metadata": {},
   "outputs": [],
   "source": [
    "league_stats = league_stats.drop_duplicates(subset=['league_id','user_id','season','week', 'player_id']).reset_index(drop=True)"
   ]
  },
  {
   "cell_type": "code",
   "execution_count": 16,
   "id": "d6d4980d-4e3d-4f8c-a117-f396c661f37f",
   "metadata": {},
   "outputs": [],
   "source": [
    "# This function creates players.csv if it doesn't already exist.\n",
    "# If players.csv does exist, it will update the file once a day.\n",
    "\n",
    "def update_players(path = 'players.csv', manual = False, status = 'all'):\n",
    "    today = datetime.today().date()\n",
    "    \n",
    "    try:\n",
    "        t = os.path.getmtime(path)\n",
    "        lu = datetime.fromtimestamp(t).date()\n",
    "    except:\n",
    "        lu = today - timedelta(days = 1)\n",
    "\n",
    "    if lu < today:\n",
    "        print('Updating players from API...')\n",
    "        conn = http.client.HTTPSConnection('api.sleeper.app')\n",
    "        conn.request(\"GET\", \"/v1/players/nfl\")\n",
    "        response = conn.getresponse().read()\n",
    "\n",
    "        df = pd.read_json(response)\n",
    "        df = df.transpose()\n",
    "        df.to_csv('players.csv', header=True, index=False)\n",
    "    else:\n",
    "        print('Players already up to date.')\n",
    "        df = pd.read_csv('players.csv')\n",
    "        \n",
    "    return df"
   ]
  },
  {
   "cell_type": "code",
   "execution_count": 17,
   "id": "77be5cc4-17be-4608-8a84-72fdbac0ea85",
   "metadata": {},
   "outputs": [
    {
     "name": "stdout",
     "output_type": "stream",
     "text": [
      "Updating players from API...\n"
     ]
    }
   ],
   "source": [
    "players = update_players()\n"
   ]
  },
  {
   "cell_type": "code",
   "execution_count": 10,
   "id": "f7a981d1-d707-43f6-856a-d0bf3cfdc4a4",
   "metadata": {},
   "outputs": [],
   "source": [
    "league_stats = league_stats.merge(players[['player_id','full_name', 'position']], how='left')\n",
    "league_stats['full_name'] = np.where(league_stats['position'] == 'DEF', league_stats['player_id'],league_stats['full_name'])"
   ]
  },
  {
   "cell_type": "code",
   "execution_count": 11,
   "id": "9a6fdcfd-94ea-400b-803b-2d3fa643d204",
   "metadata": {},
   "outputs": [],
   "source": [
    "league_stats.to_csv('league_stats.csv', index=False)"
   ]
  },
  {
   "cell_type": "code",
   "execution_count": 12,
   "id": "2e403642-0282-42f9-9067-4addf292ec56",
   "metadata": {},
   "outputs": [],
   "source": [
    "summary_data = league_stats[league_stats['starter'] == True]\n",
    "\n",
    "summary = summary_data.groupby(['season', 'league_id', 'week','roster_id','matchup'])['points'].sum().reset_index()\n",
    "\n",
    "# get results for each matchup\n",
    "matchup = summary.groupby(['season','week','matchup'])['points'].max().reset_index()\n",
    "summary = summary.merge(matchup, how='left', on=['season','week','matchup'])\n",
    "summary['result'] = np.where(summary['points_x'] == summary['points_y'], 1, 0)\n",
    "summary = summary.drop('points_y', axis = 1)\n",
    "summary.columns = ['season', 'league_id', 'week', 'roster_id', 'matchup', 'points', 'result']\n",
    "del matchup\n",
    "\n",
    "# which teams beat the median each week?\n",
    "median = summary.groupby(['season','week'])['points'].median().reset_index()\n",
    "summary = summary.merge(median, how='left', on=['season','week'])\n",
    "summary['top_half'] = np.where(summary['points_x'] > summary['points_y'], 1, 0)\n",
    "summary = summary.drop('points_y', axis = 1)\n",
    "summary.columns = ['season', 'league_id', 'week', 'roster_id', 'matchup', 'points', 'result', 'median']\n",
    "\n",
    "del median\n",
    "\n",
    "# best score each week\n",
    "maximum = summary.groupby(['season','week'])['points'].max().reset_index()\n",
    "summary = summary.merge(maximum, how='left', on=['season','week'])\n",
    "summary['top_half'] = np.where(summary['points_x'] == summary['points_y'], 1, 0)\n",
    "summary = summary.drop('points_y', axis = 1)\n",
    "summary.columns = ['season', 'league_id', 'week', 'roster_id', 'matchup', 'points', 'result', 'median', 'best_score']\n",
    "del maximum\n",
    "\n",
    "# worst score each week\n",
    "minimum = summary.groupby(['season','week'])['points'].min().reset_index()\n",
    "summary = summary.merge(minimum, how='left', on=['season','week'])\n",
    "summary['top_half'] = np.where(summary['points_x'] == summary['points_y'], 1, 0)\n",
    "summary = summary.drop('points_y', axis = 1)\n",
    "summary.columns = ['season', 'league_id', 'week', 'roster_id', 'matchup', 'points', 'result', 'median', 'best_score', 'worst_score']\n",
    "del minimum\n",
    "\n",
    "summary = summary.merge(rosters, how='left', on=['roster_id','league_id'])\n",
    "summary = summary.merge(users, how='left', on='user_id')\n",
    "summary = summary.drop_duplicates(subset=['user_id','league_id','season','week'])"
   ]
  },
  {
   "cell_type": "code",
   "execution_count": 13,
   "id": "14bdba24-fc0c-48dd-9b60-6cfeed9a4c7a",
   "metadata": {},
   "outputs": [],
   "source": [
    "summary.to_csv('results.csv', index=False)"
   ]
  }
 ],
 "metadata": {
  "kernelspec": {
   "display_name": "Python 3 (ipykernel)",
   "language": "python",
   "name": "python3"
  },
  "language_info": {
   "codemirror_mode": {
    "name": "ipython",
    "version": 3
   },
   "file_extension": ".py",
   "mimetype": "text/x-python",
   "name": "python",
   "nbconvert_exporter": "python",
   "pygments_lexer": "ipython3",
   "version": "3.9.7"
  }
 },
 "nbformat": 4,
 "nbformat_minor": 5
}
